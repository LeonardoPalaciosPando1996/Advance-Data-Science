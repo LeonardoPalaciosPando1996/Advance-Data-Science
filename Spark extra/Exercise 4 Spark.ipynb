{
 "cells": [
  {
   "cell_type": "code",
   "execution_count": 1,
   "metadata": {},
   "outputs": [],
   "source": [
    "import findspark\n",
    "findspark.init()\n",
    "from pyspark import SparkContext, SparkConf, SQLContext\n",
    "from pyspark.sql import SparkSession\n",
    "from pyspark.sql import DataFrameReader, SQLContext\n",
    "from sqlalchemy import create_engine\n",
    "import pandas as pd\n",
    "spark= SparkSession.builder.getOrCreate()\n",
    "spark\n",
    "sc = SparkContext.getOrCreate(SparkConf().setMaster(\"local[*]\"))"
   ]
  },
  {
   "cell_type": "markdown",
   "metadata": {
    "collapsed": true
   },
   "source": [
    "Welcome to exercise one of week two of “Apache Spark for Scalable Machine Learning on BigData”. In this exercise you’ll read a DataFrame in order to perform a simple statistical analysis. Then you’ll rebalance the dataset. No worries, we’ll explain everything to you, let’s get started.\n",
    "\n",
    "Let’s create a data frame from a remote file by downloading it:\n"
   ]
  },
  {
   "cell_type": "code",
   "execution_count": 2,
   "metadata": {},
   "outputs": [],
   "source": [
    "import urllib.request\n",
    "url = 'https://github.com/LeonardoPalaciosPando1996/Database/blob/Master/hmp.parquet?raw=true'\n",
    "filename = 'hmp.parquet'\n",
    "urllib.request.urlretrieve(url, filename)\n",
    "\n",
    "# create a dataframe out of it\n",
    "df = spark.read.parquet('hmp.parquet')\n",
    "\n",
    "# register a corresponding query table\n",
    "df.createOrReplaceTempView('df')"
   ]
  },
  {
   "cell_type": "markdown",
   "metadata": {},
   "source": [
    "Let’s have a look at the data set first. This dataset contains sensor recordings from different movement activities as we will see in the next week’s lectures. X, Y and Z contain accelerometer sensor values whereas the class field contains information about which movement has been recorded. The source field is optional and can be used for data lineage since it contains the file name of the original file where the particular row was imported from.\n",
    "\n",
    "More details on the data set can be found here:\n",
    "<https://github.com/wchill/HMP_Dataset>\n"
   ]
  },
  {
   "cell_type": "code",
   "execution_count": 3,
   "metadata": {},
   "outputs": [
    {
     "name": "stdout",
     "output_type": "stream",
     "text": [
      "+---+---+---+--------------------+-----------+\n",
      "|  x|  y|  z|              source|      class|\n",
      "+---+---+---+--------------------+-----------+\n",
      "| 22| 49| 35|Accelerometer-201...|Brush_teeth|\n",
      "| 22| 49| 35|Accelerometer-201...|Brush_teeth|\n",
      "| 22| 52| 35|Accelerometer-201...|Brush_teeth|\n",
      "| 22| 52| 35|Accelerometer-201...|Brush_teeth|\n",
      "| 21| 52| 34|Accelerometer-201...|Brush_teeth|\n",
      "| 22| 51| 34|Accelerometer-201...|Brush_teeth|\n",
      "| 20| 50| 35|Accelerometer-201...|Brush_teeth|\n",
      "| 22| 52| 34|Accelerometer-201...|Brush_teeth|\n",
      "| 22| 50| 34|Accelerometer-201...|Brush_teeth|\n",
      "| 22| 51| 35|Accelerometer-201...|Brush_teeth|\n",
      "| 21| 51| 33|Accelerometer-201...|Brush_teeth|\n",
      "| 20| 50| 34|Accelerometer-201...|Brush_teeth|\n",
      "| 21| 49| 33|Accelerometer-201...|Brush_teeth|\n",
      "| 21| 49| 33|Accelerometer-201...|Brush_teeth|\n",
      "| 20| 51| 35|Accelerometer-201...|Brush_teeth|\n",
      "| 18| 49| 34|Accelerometer-201...|Brush_teeth|\n",
      "| 19| 48| 34|Accelerometer-201...|Brush_teeth|\n",
      "| 16| 53| 34|Accelerometer-201...|Brush_teeth|\n",
      "| 18| 52| 35|Accelerometer-201...|Brush_teeth|\n",
      "| 18| 51| 32|Accelerometer-201...|Brush_teeth|\n",
      "+---+---+---+--------------------+-----------+\n",
      "only showing top 20 rows\n",
      "\n",
      "root\n",
      " |-- x: integer (nullable = true)\n",
      " |-- y: integer (nullable = true)\n",
      " |-- z: integer (nullable = true)\n",
      " |-- source: string (nullable = true)\n",
      " |-- class: string (nullable = true)\n",
      "\n"
     ]
    }
   ],
   "source": [
    "df.show()\n",
    "df.printSchema()"
   ]
  },
  {
   "cell_type": "markdown",
   "metadata": {},
   "source": [
    "This is a classical classification data set. One thing we always do during data analysis is checking if the classes are balanced. In other words, if there are more or less the same number of example in each class. Let’s find out by a simple aggregation using SQL.\n"
   ]
  },
  {
   "cell_type": "code",
   "execution_count": 4,
   "metadata": {},
   "outputs": [
    {
     "name": "stdout",
     "output_type": "stream",
     "text": [
      "+--------------+--------+\n",
      "|         class|count(1)|\n",
      "+--------------+--------+\n",
      "| Use_telephone|   15225|\n",
      "| Standup_chair|   25417|\n",
      "|      Eat_meat|   31236|\n",
      "|     Getup_bed|   45801|\n",
      "|   Drink_glass|   42792|\n",
      "|    Pour_water|   41673|\n",
      "|     Comb_hair|   23504|\n",
      "|          Walk|   92254|\n",
      "|  Climb_stairs|   40258|\n",
      "| Sitdown_chair|   25036|\n",
      "|   Liedown_bed|   11446|\n",
      "|Descend_stairs|   15375|\n",
      "|   Brush_teeth|   29829|\n",
      "|      Eat_soup|    6683|\n",
      "+--------------+--------+\n",
      "\n"
     ]
    }
   ],
   "source": [
    "spark.sql('select class,count(*) from df group by class').show()"
   ]
  },
  {
   "cell_type": "markdown",
   "metadata": {},
   "source": [
    "As you can see there is quite an imbalance between classes. Before we dig into this, let’s re-write the same query using the DataFrame API – just in case you are not familiar with SQL. As we’ve learned before, it doesn’t matter if you express your queries with SQL or the DataFrame API – it all gets boiled down into the same execution plan optimized by Tungsten and accelerated by Catalyst. You can even mix and match SQL and DataFrame API code if you like.\n",
    "\n",
    "Again, more details on the API can be found here:\n",
    "[https://spark.apache.org/docs/latest/api/python/pyspark.sql.html#pyspark.sql.DataFrame](https://spark.apache.org/docs/latest/api/python/pyspark.sql.html?utm_medium=Exinfluencer&utm_source=Exinfluencer&utm_content=000026UJ&utm_term=10006555&utm_id=NA-SkillsNetwork-Channel-SkillsNetworkCoursesIBMDeveloperSkillsNetworkML0201ENSkillsNetwork20647446-2022-01-01#pyspark.sql.DataFrame)\n"
   ]
  },
  {
   "cell_type": "code",
   "execution_count": 5,
   "metadata": {},
   "outputs": [
    {
     "name": "stdout",
     "output_type": "stream",
     "text": [
      "+--------------+-----+\n",
      "|         class|count|\n",
      "+--------------+-----+\n",
      "| Use_telephone|15225|\n",
      "| Standup_chair|25417|\n",
      "|      Eat_meat|31236|\n",
      "|     Getup_bed|45801|\n",
      "|   Drink_glass|42792|\n",
      "|    Pour_water|41673|\n",
      "|     Comb_hair|23504|\n",
      "|          Walk|92254|\n",
      "|  Climb_stairs|40258|\n",
      "| Sitdown_chair|25036|\n",
      "|   Liedown_bed|11446|\n",
      "|Descend_stairs|15375|\n",
      "|   Brush_teeth|29829|\n",
      "|      Eat_soup| 6683|\n",
      "+--------------+-----+\n",
      "\n"
     ]
    }
   ],
   "source": [
    "df.groupBy('class').count().show()"
   ]
  },
  {
   "cell_type": "code",
   "execution_count": 6,
   "metadata": {},
   "outputs": [],
   "source": [
    "#!pip install pixiedust"
   ]
  },
  {
   "cell_type": "markdown",
   "metadata": {},
   "source": [
    "Let’s create a bar plot from this data. We’re using the pixidust library, which is Open Source, because of its simplicity. But any other library like matplotlib is fine as well.\n"
   ]
  },
  {
   "cell_type": "code",
   "execution_count": null,
   "metadata": {
    "pixiedust": {
     "displayParams": {
      "chartsize": "99",
      "handlerId": "barChart",
      "keyFields": "class",
      "legend": "true",
      "mpld3": "false",
      "orientation": "horizontal",
      "rendererId": "matplotlib",
      "sortby": "Values ASC",
      "timeseries": "false",
      "valueFields": "count"
     }
    }
   },
   "outputs": [
    {
     "data": {
      "text/html": [
       "<style type=\"text/css\">.pd_warning{display:none;}</style><div class=\"pd_warning\"><em>Hey, there's something awesome here! To see it, open this notebook outside GitHub, in a viewer like Jupyter</em></div><img style=\"max-width:initial !important\" src=\"data:image/png;base64,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\" class=\"pd_save is-viewer-good\">"
      ],
      "text/plain": [
       "<IPython.core.display.HTML object>"
      ]
     },
     "metadata": {},
     "output_type": "display_data"
    }
   ],
   "source": [
    "import pixiedust\n",
    "from pyspark.sql.functions import col\n",
    "counts = df.groupBy('class').count().orderBy('count')\n",
    "display(counts)"
   ]
  },
  {
   "cell_type": "markdown",
   "metadata": {},
   "source": [
    "This looks nice, but it would be nice if we can aggregate further to obtain some quantitative metrics on the imbalance like, min, max, mean and standard deviation. If we divide max by min we get a measure called minmax ration which tells us something about the relationship between the smallest and largest class. Again, let’s first use SQL for those of you familiar with SQL. Don’t be scared, we’re used nested sub-selects, basically selecting from a result of a SQL query like it was a table. All within on SQL statement.\n"
   ]
  },
  {
   "cell_type": "code",
   "execution_count": 8,
   "metadata": {},
   "outputs": [
    {
     "name": "stdout",
     "output_type": "stream",
     "text": [
      "+----+-----+------------------+------------------+-----------------+\n",
      "| min|  max|              mean|            stddev|      minmaxratio|\n",
      "+----+-----+------------------+------------------+-----------------+\n",
      "|6683|92254|31894.928571428572|21284.893716741157|13.80427951518779|\n",
      "+----+-----+------------------+------------------+-----------------+\n",
      "\n"
     ]
    }
   ],
   "source": [
    "spark.sql('''\n",
    "    select \n",
    "        *,\n",
    "        max/min as minmaxratio -- compute minmaxratio based on previously computed values\n",
    "        from (\n",
    "            select \n",
    "                min(ct) as min, -- compute minimum value of all classes\n",
    "                max(ct) as max, -- compute maximum value of all classes\n",
    "                mean(ct) as mean, -- compute mean between all classes\n",
    "                stddev(ct) as stddev -- compute standard deviation between all classes\n",
    "                from (\n",
    "                    select\n",
    "                        count(*) as ct -- count the number of rows per class and rename it to ct\n",
    "                        from df -- access the temporary query table called df backed by DataFrame df\n",
    "                        group by class -- aggrecate over class\n",
    "                )\n",
    "        )   \n",
    "''').show()"
   ]
  },
  {
   "cell_type": "markdown",
   "metadata": {},
   "source": [
    "The same query can be expressed using the DataFrame API. Again, don’t be scared. It’s just a sequential expression of transformation steps. You now an choose which syntax you like better.\n"
   ]
  },
  {
   "cell_type": "code",
   "execution_count": 9,
   "metadata": {},
   "outputs": [
    {
     "name": "stdout",
     "output_type": "stream",
     "text": [
      "+----+-----+------------------+------------------+-----------------+\n",
      "| min|  max|              mean|            stddev|      minmaxratio|\n",
      "+----+-----+------------------+------------------+-----------------+\n",
      "|6683|92254|31894.928571428572|21284.893716741157|13.80427951518779|\n",
      "+----+-----+------------------+------------------+-----------------+\n",
      "\n"
     ]
    }
   ],
   "source": [
    "from pyspark.sql.functions import col, min, max, mean, stddev\n",
    "\n",
    "df \\\n",
    "    .groupBy('class') \\\n",
    "    .count() \\\n",
    "    .select([ \n",
    "        min(col(\"count\")).alias('min'), \n",
    "        max(col(\"count\")).alias('max'), \n",
    "        mean(col(\"count\")).alias('mean'), \n",
    "        stddev(col(\"count\")).alias('stddev') \n",
    "    ]) \\\n",
    "    .select([\n",
    "        col('*'),\n",
    "        (col(\"max\") / col(\"min\")).alias('minmaxratio')\n",
    "    ]) \\\n",
    "    .show()\n"
   ]
  },
  {
   "cell_type": "markdown",
   "metadata": {},
   "source": [
    "Now it’s time for you to work on the data set. First, please create a table of all classes with the respective counts, but this time, please order the table by the count number, ascending.\n"
   ]
  },
  {
   "cell_type": "code",
   "execution_count": 20,
   "metadata": {},
   "outputs": [
    {
     "name": "stdout",
     "output_type": "stream",
     "text": [
      "+--------------+-----+\n",
      "|         class|count|\n",
      "+--------------+-----+\n",
      "|          Walk|92254|\n",
      "|     Getup_bed|45801|\n",
      "|   Drink_glass|42792|\n",
      "|    Pour_water|41673|\n",
      "|  Climb_stairs|40258|\n",
      "|      Eat_meat|31236|\n",
      "|   Brush_teeth|29829|\n",
      "| Standup_chair|25417|\n",
      "| Sitdown_chair|25036|\n",
      "|     Comb_hair|23504|\n",
      "|Descend_stairs|15375|\n",
      "| Use_telephone|15225|\n",
      "|   Liedown_bed|11446|\n",
      "|      Eat_soup| 6683|\n",
      "+--------------+-----+\n",
      "\n"
     ]
    }
   ],
   "source": [
    "from pyspark.sql.functions import sum, col, desc\n",
    "df2=df.groupBy('class').count().sort(desc(\"count\"))\n",
    "df2.show()"
   ]
  },
  {
   "cell_type": "markdown",
   "metadata": {},
   "source": [
    "Pixiedust is a very sophisticated library. It takes care of sorting as well. Please modify the bar chart so that it gets sorted by the number of elements per class, ascending. Hint: It’s an option available in the UI once rendered using the display() function.\n"
   ]
  },
  {
   "cell_type": "code",
   "execution_count": null,
   "metadata": {
    "pixiedust": {
     "displayParams": {
      "aggregation": "AVG",
      "handlerId": "barChart",
      "keyFields": "class",
      "legend": "true",
      "orientation": "horizontal",
      "sortby": "Values DESC",
      "table_noschema": "false",
      "valueFields": "count"
     }
    }
   },
   "outputs": [
    {
     "data": {
      "text/html": [
       "<style type=\"text/css\">.pd_warning{display:none;}</style><div class=\"pd_warning\"><em>Hey, there's something awesome here! To see it, open this notebook outside GitHub, in a viewer like Jupyter</em></div><img style=\"max-width:initial !important\" src=\"data:image/png;base64,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\" class=\"pd_save is-viewer-good\">"
      ],
      "text/plain": [
       "<IPython.core.display.HTML object>"
      ]
     },
     "metadata": {},
     "output_type": "display_data"
    }
   ],
   "source": [
    "from pyspark.sql.functions import col, desc\n",
    "counts2 = df.groupBy('class').count().orderBy(desc('count'))\n",
    "display(counts2)"
   ]
  },
  {
   "cell_type": "code",
   "execution_count": null,
   "metadata": {},
   "outputs": [],
   "source": [
    "from pyspark.sql.functions import col\n",
    "counts = df.groupBy('class').count().orderBy('count')\n",
    "display(counts)"
   ]
  },
  {
   "cell_type": "markdown",
   "metadata": {},
   "source": [
    "Imbalanced classes can cause pain in machine learning. Therefore let’s rebalance. In the flowing we limit the number of elements per class to the amount of the least represented class. This is called undersampling. Other ways of rebalancing can be found here:\n",
    "\n",
    "[https://machinelearningmastery.com/tactics-to-combat-imbalanced-classes-in-your-machine-learning-dataset/](https://machinelearningmastery.com/tactics-to-combat-imbalanced-classes-in-your-machine-learning-dataset/?utm_medium=Exinfluencer&utm_source=Exinfluencer&utm_content=000026UJ&utm_term=10006555&utm_id=NA-SkillsNetwork-Channel-SkillsNetworkCoursesIBMDeveloperSkillsNetworkML0201ENSkillsNetwork20647446-2022-01-01)\n"
   ]
  },
  {
   "cell_type": "code",
   "execution_count": 10,
   "metadata": {},
   "outputs": [],
   "source": [
    "from pyspark.sql.functions import min\n",
    "\n",
    "# create a lot of distinct classes from the dataset\n",
    "classes = [row[0] for row in df.select('class').distinct().collect()]\n",
    "\n",
    "# compute the number of elements of the smallest class in order to limit the number of samples per calss\n",
    "min = df.groupBy('class').count().select(min('count')).first()[0]\n",
    "\n",
    "# define the result dataframe variable\n",
    "df_balanced = None\n",
    "\n",
    "# iterate over distinct classes\n",
    "for cls in classes:\n",
    "    \n",
    "    # only select examples for the specific class within this iteration\n",
    "    # shuffle the order of the elements (by setting fraction to 1.0 sample works like shuffle)\n",
    "    # return only the first n samples\n",
    "    df_temp = df \\\n",
    "        .filter(\"class = '\"+cls+\"'\") \\\n",
    "        .sample(False, 1.0) \\\n",
    "        .limit(min)\n",
    "    \n",
    "    # on first iteration, assing df_temp to empty df_balanced\n",
    "    if df_balanced == None:    \n",
    "        df_balanced = df_temp\n",
    "    # afterwards, append vertically\n",
    "    else:\n",
    "        df_balanced=df_balanced.union(df_temp)"
   ]
  },
  {
   "cell_type": "markdown",
   "metadata": {},
   "source": [
    "Please verify, by using the code cell below, if df_balanced has the same number of elements per class. You should get 6683 elements per class.\n"
   ]
  },
  {
   "cell_type": "code",
   "execution_count": 13,
   "metadata": {},
   "outputs": [
    {
     "name": "stdout",
     "output_type": "stream",
     "text": [
      "+--------------+-----+\n",
      "|         class|count|\n",
      "+--------------+-----+\n",
      "| Use_telephone| 6683|\n",
      "| Standup_chair| 6683|\n",
      "|      Eat_meat| 6683|\n",
      "|     Getup_bed| 6683|\n",
      "|   Drink_glass| 6683|\n",
      "|    Pour_water| 6683|\n",
      "|     Comb_hair| 6683|\n",
      "|          Walk| 6683|\n",
      "|  Climb_stairs| 6683|\n",
      "| Sitdown_chair| 6683|\n",
      "|   Liedown_bed| 6683|\n",
      "|Descend_stairs| 6683|\n",
      "|   Brush_teeth| 6683|\n",
      "|      Eat_soup| 6683|\n",
      "+--------------+-----+\n",
      "\n"
     ]
    }
   ],
   "source": [
    "df_balanced.groupBy('class').count().show()"
   ]
  }
 ],
 "metadata": {
  "kernelspec": {
   "display_name": "Python 3 (ipykernel)",
   "language": "python",
   "name": "python3"
  },
  "language_info": {
   "codemirror_mode": {
    "name": "ipython",
    "version": 3
   },
   "file_extension": ".py",
   "mimetype": "text/x-python",
   "name": "python",
   "nbconvert_exporter": "python",
   "pygments_lexer": "ipython3",
   "version": "3.9.12"
  }
 },
 "nbformat": 4,
 "nbformat_minor": 1
}
