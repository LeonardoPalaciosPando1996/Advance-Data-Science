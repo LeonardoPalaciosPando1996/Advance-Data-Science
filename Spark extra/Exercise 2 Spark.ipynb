{
 "cells": [
  {
   "cell_type": "code",
   "execution_count": 1,
   "metadata": {},
   "outputs": [],
   "source": [
    "import findspark\n",
    "findspark.init()\n",
    "from pyspark import SparkContext, SparkConf, SQLContext\n",
    "from pyspark.sql import SparkSession\n",
    "from pyspark.sql import DataFrameReader, SQLContext\n",
    "from sqlalchemy import create_engine\n",
    "import pandas as pd\n",
    "spark= SparkSession.builder.getOrCreate()\n",
    "spark\n",
    "sc = SparkContext.getOrCreate(SparkConf().setMaster(\"local[*]\"))"
   ]
  },
  {
   "cell_type": "markdown",
   "metadata": {
    "collapsed": true
   },
   "source": [
    "Welcome to exercise two of “Apache Spark for Scalable Machine Learning on BigData”. In this exercise you’ll apply the basics of functional and parallel programming.\n",
    "\n",
    "Again, please use the following two links for your reference:\n",
    "[https://spark.apache.org/docs/latest/api/python/reference/api/pyspark.RDD.html](https://spark.apache.org/docs/latest/api/python/reference/api/pyspark.RDD.html?utm_medium=Exinfluencer&utm_source=Exinfluencer&utm_content=000026UJ&utm_term=10006555&utm_id=NA-SkillsNetwork-Channel-SkillsNetworkCoursesIBMDeveloperSkillsNetworkML0201ENSkillsNetwork20647446-2022-01-01)\n",
    "[https://spark.apache.org/docs/latest/rdd-programming-guide.html](https://spark.apache.org/docs/latest/rdd-programming-guide.html?utm_medium=Exinfluencer&utm_source=Exinfluencer&utm_content=000026UJ&utm_term=10006555&utm_id=NA-SkillsNetwork-Channel-SkillsNetworkCoursesIBMDeveloperSkillsNetworkML0201ENSkillsNetwork20647446-2022-01-01)\n",
    "\n",
    "Let’s actually create a python function which decides whether a value is greater than 50 (True) or not (False).\n"
   ]
  },
  {
   "cell_type": "code",
   "execution_count": 2,
   "metadata": {},
   "outputs": [],
   "source": [
    "def gt50(i):\n",
    "    if i > 50:\n",
    "        return True\n",
    "    else:\n",
    "        return False"
   ]
  },
  {
   "cell_type": "code",
   "execution_count": 3,
   "metadata": {},
   "outputs": [
    {
     "name": "stdout",
     "output_type": "stream",
     "text": [
      "False\n",
      "True\n"
     ]
    }
   ],
   "source": [
    "print(gt50(4))\n",
    "print(gt50(51))"
   ]
  },
  {
   "cell_type": "markdown",
   "metadata": {},
   "source": [
    "Let’s simplify this function\n"
   ]
  },
  {
   "cell_type": "code",
   "execution_count": 4,
   "metadata": {},
   "outputs": [],
   "source": [
    "def gt50(i):\n",
    "    return i > 50"
   ]
  },
  {
   "cell_type": "code",
   "execution_count": 5,
   "metadata": {},
   "outputs": [
    {
     "name": "stdout",
     "output_type": "stream",
     "text": [
      "False\n",
      "True\n"
     ]
    }
   ],
   "source": [
    "print(gt50(4))\n",
    "print(gt50(51))"
   ]
  },
  {
   "cell_type": "markdown",
   "metadata": {},
   "source": [
    "Now let’s use the lambda notation to define the function.\n"
   ]
  },
  {
   "cell_type": "code",
   "execution_count": 6,
   "metadata": {},
   "outputs": [],
   "source": [
    "gt50 = lambda i: i > 50"
   ]
  },
  {
   "cell_type": "code",
   "execution_count": 7,
   "metadata": {},
   "outputs": [
    {
     "name": "stdout",
     "output_type": "stream",
     "text": [
      "False\n",
      "True\n"
     ]
    }
   ],
   "source": [
    "print(gt50(4))\n",
    "print(gt50(51))"
   ]
  },
  {
   "cell_type": "code",
   "execution_count": 8,
   "metadata": {},
   "outputs": [],
   "source": [
    "#let's shuffle our list to make it a bit more interesting\n",
    "from random import shuffle\n",
    "l = list(range(100))\n",
    "shuffle(l)\n",
    "rdd = sc.parallelize(l)"
   ]
  },
  {
   "cell_type": "markdown",
   "metadata": {},
   "source": [
    "Let’s filter values from our list which are equals or less than 50 by applying our “gt50” function to the list using the “filter” function. Note that by calling the “collect” function, all elements are returned to the Apache Spark Driver. This is not a good idea for BigData, please use “.sample(10,0.1).collect()” or “take(n)” instead.\n"
   ]
  },
  {
   "cell_type": "code",
   "execution_count": 9,
   "metadata": {},
   "outputs": [
    {
     "data": {
      "text/plain": [
       "[75,\n",
       " 94,\n",
       " 55,\n",
       " 87,\n",
       " 73,\n",
       " 93,\n",
       " 72,\n",
       " 65,\n",
       " 80,\n",
       " 92,\n",
       " 54,\n",
       " 52,\n",
       " 81,\n",
       " 74,\n",
       " 79,\n",
       " 63,\n",
       " 70,\n",
       " 84,\n",
       " 85,\n",
       " 83,\n",
       " 90,\n",
       " 60,\n",
       " 59,\n",
       " 57,\n",
       " 97,\n",
       " 56,\n",
       " 95,\n",
       " 91,\n",
       " 89,\n",
       " 62,\n",
       " 66,\n",
       " 58,\n",
       " 69,\n",
       " 53,\n",
       " 99,\n",
       " 71,\n",
       " 98,\n",
       " 76,\n",
       " 96,\n",
       " 61,\n",
       " 67,\n",
       " 77,\n",
       " 51,\n",
       " 88,\n",
       " 68,\n",
       " 64,\n",
       " 86,\n",
       " 82,\n",
       " 78]"
      ]
     },
     "execution_count": 9,
     "metadata": {},
     "output_type": "execute_result"
    }
   ],
   "source": [
    "rdd.filter(gt50).collect()"
   ]
  },
  {
   "cell_type": "markdown",
   "metadata": {},
   "source": [
    "We can also use the lambda function directly.\n"
   ]
  },
  {
   "cell_type": "code",
   "execution_count": 10,
   "metadata": {},
   "outputs": [
    {
     "data": {
      "text/plain": [
       "[75,\n",
       " 94,\n",
       " 55,\n",
       " 87,\n",
       " 73,\n",
       " 93,\n",
       " 72,\n",
       " 65,\n",
       " 80,\n",
       " 92,\n",
       " 54,\n",
       " 52,\n",
       " 81,\n",
       " 74,\n",
       " 79,\n",
       " 63,\n",
       " 70,\n",
       " 84,\n",
       " 85,\n",
       " 83,\n",
       " 90,\n",
       " 60,\n",
       " 59,\n",
       " 57,\n",
       " 97,\n",
       " 56,\n",
       " 95,\n",
       " 91,\n",
       " 89,\n",
       " 62,\n",
       " 66,\n",
       " 58,\n",
       " 69,\n",
       " 53,\n",
       " 99,\n",
       " 71,\n",
       " 98,\n",
       " 76,\n",
       " 96,\n",
       " 61,\n",
       " 67,\n",
       " 77,\n",
       " 51,\n",
       " 88,\n",
       " 68,\n",
       " 64,\n",
       " 86,\n",
       " 82,\n",
       " 78]"
      ]
     },
     "execution_count": 10,
     "metadata": {},
     "output_type": "execute_result"
    }
   ],
   "source": [
    "rdd.filter(lambda i: i > 50).collect()"
   ]
  },
  {
   "cell_type": "markdown",
   "metadata": {},
   "source": [
    "Let’s consider the same list of integers. Now we want to compute the sum for elements in that list which are greater than 50 but less than 75. Please implement the missing parts.\n"
   ]
  },
  {
   "cell_type": "code",
   "execution_count": 12,
   "metadata": {},
   "outputs": [
    {
     "data": {
      "text/plain": [
       "1500"
      ]
     },
     "execution_count": 12,
     "metadata": {},
     "output_type": "execute_result"
    }
   ],
   "source": [
    "rdd.filter(lambda x: x > 50).filter(lambda x: x <75).sum()"
   ]
  },
  {
   "cell_type": "markdown",
   "metadata": {},
   "source": [
    "You should see \"1500\" as answer. Now we want to know the sum of all elements. Please again, have a look at the API documentation and complete the code below in order to get the sum.\n"
   ]
  }
 ],
 "metadata": {
  "kernelspec": {
   "display_name": "Python 3 (ipykernel)",
   "language": "python",
   "name": "python3"
  },
  "language_info": {
   "codemirror_mode": {
    "name": "ipython",
    "version": 3
   },
   "file_extension": ".py",
   "mimetype": "text/x-python",
   "name": "python",
   "nbconvert_exporter": "python",
   "pygments_lexer": "ipython3",
   "version": "3.9.12"
  }
 },
 "nbformat": 4,
 "nbformat_minor": 1
}
