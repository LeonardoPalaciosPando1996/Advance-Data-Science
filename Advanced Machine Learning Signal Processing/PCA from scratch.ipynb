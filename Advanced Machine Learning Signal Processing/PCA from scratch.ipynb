{
 "cells": [
  {
   "cell_type": "code",
   "execution_count": 1,
   "metadata": {},
   "outputs": [],
   "source": [
    "import numpy as np\n",
    "import matplotlib.pyplot as plt\n",
    "import math\n",
    "from sklearn import decomposition\n",
    "\n",
    "def plot_arrow(ax, start, stop):\n",
    "    ax.annotate('', xytext=start, xy=stop,                 \n",
    "                arrowprops=dict(facecolor='red', width=2.0))\n",
    "    \n",
    "def corr_vars( start=-10, stop=10, step=0.5, mu=0, sigma=3, func=lambda x: x ):\n",
    "    x = np.arange(start, stop, step)    \n",
    "    e = np.random.normal(mu, sigma, x.size)\n",
    "    y = np.zeros(x.size)\n",
    "    \n",
    "    for ind in range(x.size):\n",
    "        y[ind] = func(x[ind]) + e[ind]\n",
    "    \n",
    "    return (x,y)"
   ]
  },
  {
   "cell_type": "code",
   "execution_count": 2,
   "metadata": {},
   "outputs": [
    {
     "data": {
      "text/plain": [
       "array([[ 2.        , -1.68093609],\n",
       "       [ 2.2       ,  2.30235361],\n",
       "       [ 2.4       ,  3.65699797],\n",
       "       [ 2.6       ,  0.52613067],\n",
       "       [ 2.8       ,  2.63261787],\n",
       "       [ 3.        ,  1.3106777 ],\n",
       "       [ 3.2       ,  0.32561105],\n",
       "       [ 3.4       , -2.65116887],\n",
       "       [ 3.6       , -1.26403255],\n",
       "       [ 3.8       , -0.71371289]])"
      ]
     },
     "execution_count": 2,
     "metadata": {},
     "output_type": "execute_result"
    }
   ],
   "source": [
    "np.random.seed(100)\n",
    "\n",
    "(x1,x2) = corr_vars(start=2, stop=4, step=0.2, sigma=2, func=lambda x: 2*math.sin(x))\n",
    "\n",
    "A = np.column_stack((x1,x2))\n",
    "\n",
    "Aorig = A\n",
    "\n",
    "A"
   ]
  },
  {
   "cell_type": "code",
   "execution_count": 3,
   "metadata": {},
   "outputs": [
    {
     "data": {
      "text/plain": [
       "(-4.0, 5.0)"
      ]
     },
     "execution_count": 3,
     "metadata": {},
     "output_type": "execute_result"
    },
    {
     "data": {
      "image/png": "[encoded data removed]",
      "text/plain": [
       "<Figure size 504x288 with 2 Axes>"
      ]
     },
     "metadata": {
      "needs_background": "light"
     },
     "output_type": "display_data"
    }
   ],
   "source": [
    "A = (A-np.mean(A,axis=0))\n",
    "\n",
    "# Plot the original matrix\n",
    "f, (ax1, ax2) = plt.subplots(1, 2, sharey=True, figsize=(7,4))\n",
    "ax1.scatter(Aorig[:,0], Aorig[:,1])\n",
    "ax1.set_title(\"Original data\")\n",
    "ax1.grid(True)\n",
    "\n",
    "# Plot the centered data\n",
    "ax2.scatter(A[:,0],A[:,1])\n",
    "ax2.set_title(\"Centered data\")\n",
    "ax2.grid(True)\n",
    "\n",
    "ax1.axhline(0, color=\"blue\")\n",
    "ax1.axvline(0, color=\"blue\")\n",
    "ax2.axhline(0, color=\"blue\")\n",
    "ax2.axvline(0, color=\"blue\")\n",
    "\n",
    "plt.xlim([-2,5])\n",
    "plt.ylim([-4,5])"
   ]
  },
  {
   "cell_type": "code",
   "execution_count": 4,
   "metadata": {},
   "outputs": [
    {
     "name": "stdout",
     "output_type": "stream",
     "text": [
      "The covariance matrix is:\n",
      "[[ 0.36666667 -0.55248919]\n",
      " [-0.55248919  4.18798554]] \n",
      "\n"
     ]
    }
   ],
   "source": [
    "S = np.dot(A.T,A)/(A.shape[0]-1)\n",
    "\n",
    "print(\"The covariance matrix is:\")\n",
    "print(S,\"\\n\")"
   ]
  },
  {
   "cell_type": "code",
   "execution_count": 5,
   "metadata": {},
   "outputs": [
    {
     "name": "stdout",
     "output_type": "stream",
     "text": [
      "Vector slope:  [-0.]\n"
     ]
    },
    {
     "name": "stderr",
     "output_type": "stream",
     "text": [
      "C:\\Users\\USUARIO\\anaconda3\\lib\\site-packages\\numpy\\core\\shape_base.py:65: VisibleDeprecationWarning: Creating an ndarray from ragged nested sequences (which is a list-or-tuple of lists-or-tuples-or ndarrays with different lengths or shapes) is deprecated. If you meant to do this, you must specify 'dtype=object' when creating the ndarray.\n",
      "  ary = asanyarray(ary)\n"
     ]
    },
    {
     "data": {
      "text/plain": [
       "(-5.0, 5.0)"
      ]
     },
     "execution_count": 5,
     "metadata": {},
     "output_type": "execute_result"
    },
    {
     "data": {
      "image/png": "[encoded data removed]",
      "text/plain": [
       "<Figure size 864x288 with 1 Axes>"
      ]
     },
     "metadata": {
      "needs_background": "light"
     },
     "output_type": "display_data"
    }
   ],
   "source": [
    "f, ax1 = plt.subplots(1, 1, sharey=True, figsize=(12,4))\n",
    "\n",
    "V = np.array([[-1],[0]])\n",
    "print(\"Vector slope: \",V[1]/V[0])\n",
    "ax1.scatter(A[:,0],A[:,1])\n",
    "ax1.set_title(\"Vector [-1,1]\")\n",
    "ax1.grid(True)\n",
    "ax1.plot([0,V[0]],[0,V[1]],c='r')\n",
    "plot_arrow(ax1, (0,0),(V[0],V[1]))\n",
    "plt.xlim([-5,5])\n",
    "plt.ylim([-5,5])"
   ]
  },
  {
   "cell_type": "code",
   "execution_count": 6,
   "metadata": {},
   "outputs": [
    {
     "name": "stdout",
     "output_type": "stream",
     "text": [
      "Vector slope:  [-1.50678871]\n"
     ]
    },
    {
     "data": {
      "text/plain": [
       "(-5.0, 5.0)"
      ]
     },
     "execution_count": 6,
     "metadata": {},
     "output_type": "execute_result"
    },
    {
     "data": {
      "image/png": "[encoded data removed]",
      "text/plain": [
       "<Figure size 864x288 with 1 Axes>"
      ]
     },
     "metadata": {
      "needs_background": "light"
     },
     "output_type": "display_data"
    }
   ],
   "source": [
    "f, ax1 = plt.subplots(1, 1, sharey=True, figsize=(12,4))\n",
    "\n",
    "V = np.dot(S,V)\n",
    "print(\"Vector slope: \",V[1]/V[0])\n",
    "ax1.scatter(A[:,0],A[:,1])\n",
    "ax1.set_title(\"Vector [-1,1]\")\n",
    "ax1.grid(True)\n",
    "ax1.plot([0,V[0]],[0,V[1]],c='r')\n",
    "plot_arrow(ax1, (0,0),(V[0],V[1]))\n",
    "\n",
    "plt.xlim([-5,5])\n",
    "plt.ylim([-5,5])"
   ]
  },
  {
   "cell_type": "code",
   "execution_count": 7,
   "metadata": {},
   "outputs": [
    {
     "name": "stdout",
     "output_type": "stream",
     "text": [
      "Vector slope:  [-5.72313052]\n"
     ]
    },
    {
     "data": {
      "text/plain": [
       "(-5.0, 5.0)"
      ]
     },
     "execution_count": 7,
     "metadata": {},
     "output_type": "execute_result"
    },
    {
     "data": {
      "image/png": "[encoded data removed]",
      "text/plain": [
       "<Figure size 864x288 with 1 Axes>"
      ]
     },
     "metadata": {
      "needs_background": "light"
     },
     "output_type": "display_data"
    }
   ],
   "source": [
    "f, ax1 = plt.subplots(1, 1, sharey=True, figsize=(12,4))\n",
    "\n",
    "V = np.dot(S,V)\n",
    "print(\"Vector slope: \",V[1]/V[0])\n",
    "ax1.scatter(A[:,0],A[:,1])\n",
    "ax1.set_title(\"Vector [-1,1]\")\n",
    "ax1.grid(True)\n",
    "ax1.plot([0,V[0]],[0,V[1]],c='r')\n",
    "plot_arrow(ax1, (0,0),(V[0],V[1]))\n",
    "\n",
    "plt.xlim([-5,5])\n",
    "plt.ylim([-5,5])"
   ]
  },
  {
   "cell_type": "code",
   "execution_count": 8,
   "metadata": {},
   "outputs": [
    {
     "name": "stdout",
     "output_type": "stream",
     "text": [
      "Vector slope:  [-6.94911232]\n"
     ]
    },
    {
     "data": {
      "text/plain": [
       "(-5.0, 5.0)"
      ]
     },
     "execution_count": 8,
     "metadata": {},
     "output_type": "execute_result"
    },
    {
     "data": {
      "image/png": "[encoded data removed]",
      "text/plain": [
       "<Figure size 864x288 with 1 Axes>"
      ]
     },
     "metadata": {
      "needs_background": "light"
     },
     "output_type": "display_data"
    }
   ],
   "source": [
    "f, ax1 = plt.subplots(1, 1, sharey=True, figsize=(12,4))\n",
    "\n",
    "V = np.dot(S,V)\n",
    "print(\"Vector slope: \",V[1]/V[0])\n",
    "ax1.scatter(A[:,0],A[:,1])\n",
    "ax1.set_title(\"Vector [-1,1]\")\n",
    "ax1.grid(True)\n",
    "ax1.plot([0,V[0]],[0,V[1]],c='r')\n",
    "plot_arrow(ax1, (0,0),(V[0],V[1]))\n",
    "\n",
    "plt.xlim([-5,5])\n",
    "plt.ylim([-5,5])"
   ]
  },
  {
   "cell_type": "code",
   "execution_count": 9,
   "metadata": {},
   "outputs": [
    {
     "name": "stdout",
     "output_type": "stream",
     "text": [
      "The slope of the vector converges to the direction of greatest variance:\n",
      "\n",
      "Vector slope:  [-7.0507464]\n",
      "Vector slope:  [-7.0577219]\n",
      "Vector slope:  [-7.05819391]\n",
      "Vector slope:  [-7.05822582]\n",
      "Vector slope:  [-7.05822798]\n",
      "Vector slope:  [-7.05822813]\n"
     ]
    }
   ],
   "source": [
    "print(\"The slope of the vector converges to the direction of greatest variance:\\n\")\n",
    "\n",
    "V = np.dot(S,V)\n",
    "print(\"Vector slope: \",V[1]/V[0])\n",
    "V = np.dot(S,V)\n",
    "print(\"Vector slope: \",V[1]/V[0])\n",
    "V = np.dot(S,V)\n",
    "print(\"Vector slope: \",V[1]/V[0])\n",
    "V = np.dot(S,V)\n",
    "print(\"Vector slope: \",V[1]/V[0])\n",
    "V = np.dot(S,V)\n",
    "print(\"Vector slope: \",V[1]/V[0])\n",
    "V = np.dot(S,V)\n",
    "print(\"Vector slope: \",V[1]/V[0])"
   ]
  },
  {
   "cell_type": "code",
   "execution_count": 10,
   "metadata": {},
   "outputs": [
    {
     "name": "stdout",
     "output_type": "stream",
     "text": [
      "The eigenvalues are:\n",
      "L1: 4.266261447240239\n",
      "L2: 0.28839076171131417\n"
     ]
    }
   ],
   "source": [
    "# https://en.wikipedia.org/wiki/Eigenvalue_algorithm\n",
    "\n",
    "l_1 = (S.trace() + np.sqrt(pow(S.trace(),2) - 4*np.linalg.det(S))) / 2\n",
    "l_2 = (S.trace() - np.sqrt(pow(S.trace(),2) - 4*np.linalg.det(S))) / 2\n",
    "\n",
    "print(\"The eigenvalues are:\")\n",
    "print(\"L1:\",l_1)\n",
    "print(\"L2:\",l_2)"
   ]
  },
  {
   "cell_type": "code",
   "execution_count": 11,
   "metadata": {},
   "outputs": [
    {
     "name": "stdout",
     "output_type": "stream",
     "text": [
      "The eigenvectors are:\n",
      "E1: [-0.14027773  0.9901122 ]\n",
      "E2: [-0.9901122  -0.14027773]\n"
     ]
    }
   ],
   "source": [
    "# Cayley-Hamilton theorem\n",
    "# (A - λ1I )(A - λ2I ) = (A - λ2I )(A - λ1I ) = 0\n",
    "\n",
    "A1 = S - l_1 * np.identity(2)\n",
    "A2 = S - l_2 * np.identity(2)\n",
    "\n",
    "E1 = A2[:,1]\n",
    "E2 = A1[:,0]\n",
    "\n",
    "E1 = E1 / np.linalg.norm(E1)\n",
    "E2 = E2 / np.linalg.norm(E2)\n",
    "\n",
    "print(\"The eigenvectors are:\")\n",
    "print(\"E1:\", E1)\n",
    "print(\"E2:\", E2)"
   ]
  },
  {
   "cell_type": "code",
   "execution_count": 12,
   "metadata": {},
   "outputs": [
    {
     "data": {
      "text/plain": [
       "array([[-0.14027773, -0.9901122 ],\n",
       "       [ 0.9901122 , -0.14027773]])"
      ]
     },
     "execution_count": 12,
     "metadata": {},
     "output_type": "execute_result"
    }
   ],
   "source": [
    "E = np.column_stack((E1,E2))\n",
    "\n",
    "E"
   ]
  },
  {
   "cell_type": "code",
   "execution_count": 13,
   "metadata": {},
   "outputs": [
    {
     "name": "stdout",
     "output_type": "stream",
     "text": [
      "[0.28839076 4.26626145]\n",
      "[[-0.9901122  -0.14027773]\n",
      " [-0.14027773  0.9901122 ]]\n"
     ]
    }
   ],
   "source": [
    "evals, evecs = np.linalg.eigh(S)\n",
    "\n",
    "print(evals)\n",
    "print(evecs)"
   ]
  },
  {
   "cell_type": "code",
   "execution_count": 47,
   "metadata": {},
   "outputs": [
    {
     "data": {
      "text/plain": [
       "(-4.0, 5.0)"
      ]
     },
     "execution_count": 47,
     "metadata": {},
     "output_type": "execute_result"
    },
    {
     "data": {
      "image/png": "[encoded data removed]",
      "text/plain": [
       "<Figure size 864x288 with 3 Axes>"
      ]
     },
     "metadata": {
      "needs_background": "light"
     },
     "output_type": "display_data"
    }
   ],
   "source": [
    "f, (ax1, ax2, ax3) = plt.subplots(1, 3, sharey=True, figsize=(12,4))\n",
    "ax1.scatter(Aorig[:,0],Aorig[:,1])\n",
    "ax1.set_title(\"Original Data\")\n",
    "ax1.grid(True)\n",
    "ax1.set_aspect('equal')\n",
    "\n",
    "ax2.scatter(Aorig[:,0],Aorig[:,1])\n",
    "ax2.set_title(\"E1\")\n",
    "ax2.grid(True)\n",
    "plot_arrow(ax2, np.mean(Aorig,axis=0), np.mean(Aorig,axis=0) + np.dot(Aorig, E).std(axis=0).mean() * E1)\n",
    "ax2.set_aspect('equal')               \n",
    "\n",
    "ax3.scatter(Aorig[:,0],Aorig[:,1])\n",
    "ax3.set_title(\"E1 and E2\")\n",
    "ax3.grid(True)\n",
    "plot_arrow(ax3, np.mean(Aorig,axis=0), np.mean(Aorig,axis=0) + np.dot(Aorig, E).std(axis=0).mean() * E1)\n",
    "plot_arrow(ax3, np.mean(Aorig,axis=0), np.mean(Aorig,axis=0) + np.dot(Aorig, E).std(axis=0).mean() * E2)\n",
    "ax3.set_aspect('equal')               \n",
    "\n",
    "plt.xlim([0,5])\n",
    "plt.ylim([-4,5])"
   ]
  },
  {
   "cell_type": "code",
   "execution_count": 15,
   "metadata": {},
   "outputs": [
    {
     "data": {
      "text/plain": [
       "array([[-1.97812455,  1.18924584],\n",
       "       [ 1.93772363,  0.43245658],\n",
       "       [ 3.25091797,  0.04440771],\n",
       "       [ 0.12295254,  0.28557622],\n",
       "       [ 2.18055566, -0.20793946],\n",
       "       [ 0.84363103, -0.22052313],\n",
       "       [-0.15975102, -0.28036266],\n",
       "       [-3.13515266, -0.06080918],\n",
       "       [-1.78978762, -0.45341595],\n",
       "       [-1.27296497, -0.72863598]])"
      ]
     },
     "execution_count": 15,
     "metadata": {},
     "output_type": "execute_result"
    }
   ],
   "source": [
    "F1 = np.dot(A, E1)\n",
    "F2 = np.dot(A, E2)\n",
    "\n",
    "F = np.column_stack((F1, F2))\n",
    "F"
   ]
  },
  {
   "cell_type": "code",
   "execution_count": 16,
   "metadata": {},
   "outputs": [
    {
     "name": "stdout",
     "output_type": "stream",
     "text": [
      "[[-1.97812455  1.18924584]\n",
      " [ 1.93772363  0.43245658]\n",
      " [ 3.25091797  0.04440771]\n",
      " [ 0.12295254  0.28557622]\n",
      " [ 2.18055566 -0.20793946]\n",
      " [ 0.84363103 -0.22052313]\n",
      " [-0.15975102 -0.28036266]\n",
      " [-3.13515266 -0.06080918]\n",
      " [-1.78978762 -0.45341595]\n",
      " [-1.27296497 -0.72863598]]\n"
     ]
    }
   ],
   "source": [
    "pca = decomposition.PCA(n_components=2)\n",
    "print(pca.fit_transform(A))"
   ]
  }
 ],
 "metadata": {
  "kernelspec": {
   "display_name": "Python 3 (ipykernel)",
   "language": "python",
   "name": "python3"
  },
  "language_info": {
   "codemirror_mode": {
    "name": "ipython",
    "version": 3
   },
   "file_extension": ".py",
   "mimetype": "text/x-python",
   "name": "python",
   "nbconvert_exporter": "python",
   "pygments_lexer": "ipython3",
   "version": "3.9.12"
  }
 },
 "nbformat": 4,
 "nbformat_minor": 1
}
