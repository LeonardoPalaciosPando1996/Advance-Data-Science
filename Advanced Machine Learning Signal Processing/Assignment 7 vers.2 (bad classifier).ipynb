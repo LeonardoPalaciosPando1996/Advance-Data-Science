{
 "cells": [
  {
   "cell_type": "code",
   "execution_count": 1,
   "metadata": {},
   "outputs": [],
   "source": [
    "import findspark\n",
    "findspark.init()\n",
    "from pyspark import SparkContext, SparkConf, SQLContext\n",
    "from pyspark.sql import SparkSession\n",
    "from pyspark.sql import DataFrameReader, SQLContext\n",
    "from sqlalchemy import create_engine\n",
    "import pandas as pd\n",
    "spark= SparkSession.builder.getOrCreate()\n",
    "spark\n",
    "sc = SparkContext.getOrCreate(SparkConf().setMaster(\"local[*]\"))"
   ]
  },
  {
   "cell_type": "code",
   "execution_count": 2,
   "metadata": {},
   "outputs": [
    {
     "data": {
      "text/plain": [
       "('a2.parquet', <http.client.HTTPMessage at 0x203e79f6f10>)"
      ]
     },
     "execution_count": 2,
     "metadata": {},
     "output_type": "execute_result"
    }
   ],
   "source": [
    "import urllib.request\n",
    "url = 'https://github.com/LeonardoPalaciosPando1996/Database/blob/Master/a2.parquet?raw=true'\n",
    "filename = 'a2.parquet'\n",
    "urllib.request.urlretrieve(url, filename)"
   ]
  },
  {
   "cell_type": "code",
   "execution_count": 3,
   "metadata": {},
   "outputs": [
    {
     "name": "stdout",
     "output_type": "stream",
     "text": [
      "+-----+-----------+-------------------+-------------------+-------------------+\n",
      "|CLASS|   SENSORID|                  X|                  Y|                  Z|\n",
      "+-----+-----------+-------------------+-------------------+-------------------+\n",
      "|    0|         26| 380.66434005495194| -139.3470983812975|-247.93697521077704|\n",
      "|    0|         29| 104.74324299209692| -32.27421440203938|-25.105013725863852|\n",
      "|    0| 8589934658| 118.11469236129976| 45.916682927433534| -87.97203782706572|\n",
      "|    0|34359738398| 246.55394030642543|-0.6122810693132044|-398.18662513951506|\n",
      "|    0|17179869241|-190.32584900181487|  234.7849657520335|-206.34483804019288|\n",
      "|    0|25769803830| 178.62396382387422| -47.07529438881511|  84.38310769821979|\n",
      "|    0|25769803831|  85.03128805189493|-4.3024316644854546|-1.1841857567516714|\n",
      "|    0|34359738411| 26.786262674736566| -46.33193951911338| 20.880756008396055|\n",
      "|    0| 8589934592|-16.203752396859194| 51.080957032176954| -96.80526656416971|\n",
      "|    0|25769803852|   47.2048142440404|  -78.2950899652916| 181.99604091494786|\n",
      "|    0|34359738369| 15.608872398939273| -79.90322809181754|  69.62150711098005|\n",
      "|    0|         19|-4.8281721129789315| -67.38050508399905| 221.24876396496404|\n",
      "|    0|         54| -98.40725712852762|-19.989364074314732|  -302.695196085276|\n",
      "|    0|17179869313| 22.835845394816594|   17.1633660118843| 32.877914832011385|\n",
      "|    0|34359738454|  84.20178070080324| -32.81572075916947| -48.63517643958031|\n",
      "|    0|          0|  56.54732521345129| -7.980106018032676|  95.05162719436447|\n",
      "|    0|17179869201|  -57.6008655247749|  5.135393798773895| 236.99158698947267|\n",
      "|    0|17179869308| -65.59264738389012| -48.92660057215126| -61.58970715383383|\n",
      "|    0|25769803790|  34.82337351291005|  9.483542084393937|  197.6066372962772|\n",
      "|    0|25769803825|  39.80573823439121|-0.7955236412785212| -79.66652640650325|\n",
      "+-----+-----------+-------------------+-------------------+-------------------+\n",
      "only showing top 20 rows\n",
      "\n"
     ]
    }
   ],
   "source": [
    "df = spark.read.parquet('a2.parquet')\n",
    "df.createOrReplaceTempView('df')\n",
    "spark.sql(\"SELECT * from df\").show()"
   ]
  },
  {
   "cell_type": "code",
   "execution_count": 4,
   "metadata": {},
   "outputs": [],
   "source": [
    "splits = df.randomSplit([0.8, 0.2])\n",
    "df_train = splits[0]\n",
    "df_test = splits[1]"
   ]
  },
  {
   "cell_type": "markdown",
   "metadata": {},
   "source": [
    "Now it’s time to have a look at the recorded sensor data. You should see data similar to the one exemplified below….\n"
   ]
  },
  {
   "cell_type": "markdown",
   "metadata": {},
   "source": [
    "Please create a VectorAssembler which consumes columns X, Y and Z and produces a column “features”\n"
   ]
  },
  {
   "cell_type": "code",
   "execution_count": 5,
   "metadata": {},
   "outputs": [],
   "source": [
    "from pyspark.ml.feature import StringIndexer, OneHotEncoder\n",
    "from pyspark.ml.linalg import Vectors\n",
    "from pyspark.ml.feature import VectorAssembler\n",
    "from pyspark.ml.feature import MinMaxScaler\n",
    "\n",
    "indexer = StringIndexer(inputCol=\"CLASS\", outputCol=\"label\")\n",
    "vectorAssembler = VectorAssembler(inputCols=[\"X\",\"Y\",\"Z\"],\n",
    "                                  outputCol=\"features\")\n",
    "\n",
    "normalizer = MinMaxScaler(inputCol=\"features\", outputCol=\"features_norm\")"
   ]
  },
  {
   "cell_type": "markdown",
   "metadata": {},
   "source": [
    "Please instantiate a classifier from the SparkML package and assign it to the classifier variable. Make sure to either\n",
    "1.\tRename the “CLASS” column to “label” or\n",
    "2.\tSpecify the label-column correctly to be “CLASS”\n"
   ]
  },
  {
   "cell_type": "code",
   "execution_count": 6,
   "metadata": {},
   "outputs": [],
   "source": [
    "from pyspark.ml.classification import LogisticRegression\n",
    "classifier = LogisticRegression(maxIter=10, regParam=0.3, elasticNetParam=0.8)"
   ]
  },
  {
   "cell_type": "markdown",
   "metadata": {},
   "source": [
    "Let’s train and evaluate…\n"
   ]
  },
  {
   "cell_type": "code",
   "execution_count": 7,
   "metadata": {},
   "outputs": [],
   "source": [
    "from pyspark.ml import Pipeline\n",
    "pipeline = Pipeline(stages=[indexer,vectorAssembler, normalizer,classifier])"
   ]
  },
  {
   "cell_type": "code",
   "execution_count": 8,
   "metadata": {},
   "outputs": [],
   "source": [
    "model = pipeline.fit(df_train)"
   ]
  },
  {
   "cell_type": "code",
   "execution_count": 9,
   "metadata": {},
   "outputs": [],
   "source": [
    "prediction = model.transform(df_train)"
   ]
  },
  {
   "cell_type": "code",
   "execution_count": 10,
   "metadata": {},
   "outputs": [
    {
     "name": "stdout",
     "output_type": "stream",
     "text": [
      "+-----+--------+-------------------+-------------------+-------------------+-----+--------------------+--------------------+--------------------+--------------------+----------+\n",
      "|CLASS|SENSORID|                  X|                  Y|                  Z|label|            features|       features_norm|       rawPrediction|         probability|prediction|\n",
      "+-----+--------+-------------------+-------------------+-------------------+-----+--------------------+--------------------+--------------------+--------------------+----------+\n",
      "|    0|       0|-104.60513286125266|  -54.0262751326433| 345.25976930323344|  0.0|[-104.60513286125...|[0.29984225435296...|[0.15662190434040...|[0.53907563025210...|       0.0|\n",
      "|    0|       0|  56.54732521345129| -7.980106018032676|  95.05162719436447|  0.0|[56.5473252134512...|[0.53235665727429...|[0.15662190434040...|[0.53907563025210...|       0.0|\n",
      "|    0|       1| 15.798748332829806| -86.21159407546875|   85.2514617870864|  0.0|[15.7987483328298...|[0.47356369105779...|[0.15662190434040...|[0.53907563025210...|       0.0|\n",
      "|    0|       2| -258.1817814050372|   66.8675617595676| 433.50053814326026|  0.0|[-258.18178140503...|[0.07825840037125...|[0.15662190434040...|[0.53907563025210...|       0.0|\n",
      "|    0|       2|-60.287010425683505| 18.442246406638773|  88.30025324517945|  0.0|[-60.287010425683...|[0.36378544144306...|[0.15662190434040...|[0.53907563025210...|       0.0|\n",
      "|    0|       3| 122.79284074820067| -88.19527091272191|-185.40334606851977|  0.0|[122.792840748200...|[0.62793718192033...|[0.15662190434040...|[0.53907563025210...|       0.0|\n",
      "|    0|       3| 137.48274121419482|  -93.9756133320119| -220.9712437858673|  0.0|[137.482741214194...|[0.64913210179081...|[0.15662190434040...|[0.53907563025210...|       0.0|\n",
      "|    0|       4|-183.01335779637213|  92.07794203262087|  93.60684414506031|  0.0|[-183.01335779637...|[0.18671309813208...|[0.15662190434040...|[0.53907563025210...|       0.0|\n",
      "|    0|       4|  -57.6008655247749|  5.135393798773895| 236.99158698947267|  0.0|[-57.600865524774...|[0.36766107191905...|[0.15662190434040...|[0.53907563025210...|       0.0|\n",
      "|    0|       5| -33.87457888688617| 13.353554565156802| -443.7397084372543|  0.0|[-33.874578886886...|[0.40189389366473...|[0.15662190434040...|[0.53907563025210...|       0.0|\n",
      "|    0|       5|  144.8763646036816| -43.63767640465293|  36.56313967722145|  0.0|[144.876364603681...|[0.65979978845455...|[0.15662190434040...|[0.53907563025210...|       0.0|\n",
      "|    0|       6|-56.735799011890066|  81.98728822873187| -17.89864645185649|  0.0|[-56.735799011890...|[0.36890920940410...|[0.15662190434040...|[0.53907563025210...|       0.0|\n",
      "|    0|       6|   70.5415741207817| -33.17977745901177|  52.41411079917531|  0.0|[70.5415741207817...|[0.55254787537853...|[0.15662190434040...|[0.53907563025210...|       0.0|\n",
      "|    0|       7|-4.8281721129789315| -67.38050508399905| 221.24876396496404|  0.0|[-4.8281721129789...|[0.44380270479136...|[0.15662190434040...|[0.53907563025210...|       0.0|\n",
      "|    0|       7| 25.023569867449666| -53.21428926366043| -6.843856965266909|  0.0|[25.0235698674496...|[0.48687347172638...|[0.15662190434040...|[0.53907563025210...|       0.0|\n",
      "|    0|       8| 222.41256717917048|-128.85606064795286| 113.38920172986577|  0.0|[222.412567179170...|[0.77167077113773...|[0.15662190434040...|[0.53907563025210...|       0.0|\n",
      "|    0|       9|0.15382920098312014| -36.78927546535473|-188.32247039727986|  0.0|[0.15382920098312...|[0.45099084870619...|[0.15662190434040...|[0.53907563025210...|       0.0|\n",
      "|    0|      10| -13.10170252289096| 107.05426618350924|-384.70104392987804|  0.0|[-13.101702522890...|[0.43186546842342...|[0.15662190434040...|[0.53907563025210...|       0.0|\n",
      "|    0|      11|   44.2794452012794|-61.434629776826256|   140.920688562067|  0.0|[44.2794452012794...|[0.51465628316757...|[0.15662190434040...|[0.53907563025210...|       0.0|\n",
      "|    0|      12|-100.92615080557411| -7.468076698886018|  92.98407815956433|  0.0|[-100.92615080557...|[0.30515037267925...|[0.15662190434040...|[0.53907563025210...|       0.0|\n",
      "+-----+--------+-------------------+-------------------+-------------------+-----+--------------------+--------------------+--------------------+--------------------+----------+\n",
      "only showing top 20 rows\n",
      "\n"
     ]
    }
   ],
   "source": [
    "prediction.show()"
   ]
  },
  {
   "cell_type": "code",
   "execution_count": 11,
   "metadata": {},
   "outputs": [
    {
     "name": "stdout",
     "output_type": "stream",
     "text": [
      "root\n",
      " |-- CLASS: integer (nullable = true)\n",
      " |-- SENSORID: long (nullable = true)\n",
      " |-- X: double (nullable = true)\n",
      " |-- Y: double (nullable = true)\n",
      " |-- Z: double (nullable = true)\n",
      " |-- label: double (nullable = false)\n",
      " |-- features: vector (nullable = true)\n",
      " |-- features_norm: vector (nullable = true)\n",
      " |-- rawPrediction: vector (nullable = true)\n",
      " |-- probability: vector (nullable = true)\n",
      " |-- prediction: double (nullable = false)\n",
      "\n"
     ]
    }
   ],
   "source": [
    "prediction.printSchema()"
   ]
  },
  {
   "cell_type": "code",
   "execution_count": 12,
   "metadata": {},
   "outputs": [
    {
     "data": {
      "text/plain": [
       "0.5390756302521008"
      ]
     },
     "execution_count": 12,
     "metadata": {},
     "output_type": "execute_result"
    }
   ],
   "source": [
    "from pyspark.ml.evaluation import MulticlassClassificationEvaluator\n",
    "binEval = MulticlassClassificationEvaluator().setMetricName(\"accuracy\") .setPredictionCol(\"prediction\").setLabelCol(\"label\")\n",
    "binEval.evaluate(prediction)"
   ]
  },
  {
   "cell_type": "markdown",
   "metadata": {},
   "source": [
    "Are you happy with the result? I’m happy with > 0.55."
   ]
  }
 ],
 "metadata": {
  "kernelspec": {
   "display_name": "Python 3 (ipykernel)",
   "language": "python",
   "name": "python3"
  },
  "language_info": {
   "codemirror_mode": {
    "name": "ipython",
    "version": 3
   },
   "file_extension": ".py",
   "mimetype": "text/x-python",
   "name": "python",
   "nbconvert_exporter": "python",
   "pygments_lexer": "ipython3",
   "version": "3.9.12"
  }
 },
 "nbformat": 4,
 "nbformat_minor": 1
}
